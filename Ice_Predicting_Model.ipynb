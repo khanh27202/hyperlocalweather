{
  "cells": [
    {
      "cell_type": "markdown",
      "metadata": {},
      "source": [
        "# Introduction"
      ]
    },
    {
      "cell_type": "markdown",
      "metadata": {},
      "source": [
        "This notebook aims to develop a model that predicts ice formation on sidewalk/road surfaces using basic weather data including temperature, dew point temperature, wind speed, and gust speed. The model is trained on data from Road Weather Information Stations (RWIS).\n",
        "\n",
        "Two models are being evaluated:\n",
        "- Long Short-Term Memory (LSTM) Network\n",
        "- Logistic Regression"
      ]
    },
    {
      "cell_type": "markdown",
      "metadata": {
        "id": "ie5UzFcfZWsp"
      },
      "source": [
        "# Download Dataset from RWIS API"
      ]
    },
    {
      "cell_type": "code",
      "execution_count": 2,
      "metadata": {
        "id": "Se_cp13rhJpb"
      },
      "outputs": [],
      "source": [
        "import requests\n",
        "import pandas as pd\n",
        "import numpy as np\n",
        "import os"
      ]
    },
    {
      "cell_type": "code",
      "execution_count": 4,
      "metadata": {
        "colab": {
          "base_uri": "https://localhost:8080/"
        },
        "id": "PVrUrVrEVqp-",
        "outputId": "3fab2ac8-5f3b-4a8c-c740-5baa8bdbd29f"
      },
      "outputs": [
        {
          "name": "stdout",
          "output_type": "stream",
          "text": [
            "GET: https://mesonet.agron.iastate.edu/cgi-bin/request/rwis.py?network=VT_RWIS&stations=_ALL&tz=America%2FNew_York&what=txt&src=atmos&sts=2015-01-01T00:00&ets=2025-01-01T00:00\n",
            "File successfully downloaded to: content/dataset/rwis_vt.txt\n"
          ]
        }
      ],
      "source": [
        "\n",
        "url = \"https://mesonet.agron.iastate.edu/cgi-bin/request/rwis.py\"\n",
        "network = \"VT_RWIS\" # Vermont\n",
        "stations = \"_ALL\" # Select All Stations\n",
        "format = \"txt\"\n",
        "start = \"2015-01-01T00:00\" # Start Timestamp\n",
        "end = \"2025-01-01T00:00\" # End Timestamp\n",
        "tz = \"America%2FNew_York\" # Timezone\n",
        "src = \"atmos\" # atmospheric data\n",
        "\n",
        "api_url = (\n",
        "    f\"{url}?\"\n",
        "    f\"network={network}&\"\n",
        "    f\"stations={stations}&\"\n",
        "    f\"tz={tz}&\"\n",
        "    f\"what={format}&\"\n",
        "    f\"src={src}&\"\n",
        "    f\"sts={start}&\"\n",
        "    f\"ets={end}\"\n",
        ")\n",
        "\n",
        "output_filename = 'rwis_vt.txt'\n",
        "print(\"GET: \" + api_url)\n",
        "\n",
        "try:\n",
        "  response = requests.get(api_url)\n",
        "\n",
        "  response.raise_for_status()\n",
        "\n",
        "  # Create directory if it doesn't exist\n",
        "  output_dir = 'content/dataset'\n",
        "  if not os.path.exists(output_dir):\n",
        "      os.makedirs(output_dir)\n",
        "\n",
        "  # Define the output file path\n",
        "  output_file = os.path.join(output_dir, output_filename)\n",
        "\n",
        "  # Write the content to a file\n",
        "  with open(output_file, 'wb') as f:\n",
        "      f.write(response.content)\n",
        "\n",
        "  print(f\"File successfully downloaded to: {output_file}\")\n",
        "\n",
        "except requests.exceptions.RequestException as e:\n",
        "        print(f\"Error making API request: {e}\")\n",
        "except Exception as e:\n",
        "    print(f\"Error: {e}\")"
      ]
    },
    {
      "cell_type": "markdown",
      "metadata": {
        "id": "UyK15OX8bYB8"
      },
      "source": [
        "# Process Dataset"
      ]
    },
    {
      "cell_type": "markdown",
      "metadata": {
        "id": "0Gk7SY6reP-U"
      },
      "source": [
        "We're focusing on the following columns:\n",
        "\n",
        "* **tmpf** - Temperature in Fahrenheit\n",
        "* **dwpf** - Dew point temperature in Fahrenheit\n",
        "* **sknt** - Wind speed in knots\n",
        "* **gust** - Gust wind speed in knots\n",
        "* **surface conditions** (represented by **tfs0_text**, **tfs1_text**, **tfs2_text**, **tfs3_text**)\n",
        "\n",
        "For comprehensive documentation on the database, please visit: https://mesonet.agron.iastate.edu/request/rwis/fe.phtml"
      ]
    },
    {
      "cell_type": "code",
      "execution_count": 7,
      "metadata": {
        "colab": {
          "base_uri": "https://localhost:8080/"
        },
        "id": "rdLQHUumbSUp",
        "outputId": "2b8ec528-acdd-4b94-9d25-649a7e11d798"
      },
      "outputs": [
        {
          "name": "stdout",
          "output_type": "stream",
          "text": [
            "\n",
            "Data Preview:\n",
            "  station    tmpf     dwpf   drct      sknt  tfs0    tfs1    tfs2    tfs3  \\\n",
            "0   VT008  21.218  5.73800  230.0  34.96500   NaN     NaN     NaN     NaN   \n",
            "1   VT006  21.038  4.65798  215.0  19.42500   NaN     NaN     NaN     NaN   \n",
            "2   VT013  22.658  8.25798  202.0  25.25250   NaN     NaN     NaN  18.338   \n",
            "3   VT002  18.698  6.45798  260.0  36.90750   NaN     NaN     NaN     NaN   \n",
            "4   VT004  17.438  3.39802  245.0   5.82751   NaN  15.998  16.718     NaN   \n",
            "\n",
            "   subf     gust tfs0_text  tfs1_text tfs2_text tfs3_text      pcpn  vsby  \\\n",
            "0   NaN  60.2176       NaN        NaN       NaN       NaN  0.000000   NaN   \n",
            "1   NaN  58.2751       NaN        NaN       NaN       NaN  0.015748   NaN   \n",
            "2   NaN  38.8500       NaN        NaN       NaN       NaN       NaN   NaN   \n",
            "3   NaN  75.7576       NaN        NaN       NaN       NaN  0.003937   NaN   \n",
            "4   NaN  19.4250       NaN        NaN       NaN       NaN  0.007874   NaN   \n",
            "\n",
            "   feel  relh               obtime  \n",
            "0   NaN   NaN  2015-01-01 01:05:02  \n",
            "1   NaN   NaN  2015-01-01 01:05:02  \n",
            "2   NaN   NaN  2015-01-01 01:05:02  \n",
            "3   NaN   NaN  2015-01-01 01:05:03  \n",
            "4   NaN   NaN  2015-01-01 01:05:03  \n"
          ]
        }
      ],
      "source": [
        "output_file = 'content/dataset/rwis_vt.txt'\n",
        "df = pd.read_csv(output_file, delimiter=',', low_memory=False)\n",
        "print(\"\\nData Preview:\")\n",
        "print(df.head())"
      ]
    },
    {
      "cell_type": "markdown",
      "metadata": {
        "id": "ott8VS4jhsVV"
      },
      "source": [
        "## Basic Data Processing"
      ]
    },
    {
      "cell_type": "markdown",
      "metadata": {
        "id": "3sKBDt2GiFS-"
      },
      "source": [
        "In addition to the existing columns, we derived the following features from the timestamp:\n",
        "\n",
        "* **year** - Integer value of the year\n",
        "* **month** - Integer value (1-12) representing the month\n",
        "* **iswinter** - Binary indicator (0 or 1) where 1 represents winter months\n",
        "* **isday** - Binary indicator (0 or 1) where 1 represents daytime and 0 represents nighttime"
      ]
    },
    {
      "cell_type": "code",
      "execution_count": 8,
      "metadata": {
        "id": "-XXu0Zk1b-x7"
      },
      "outputs": [],
      "source": [
        "df['obtime'] = df['obtime'].astype(str)\n",
        "df['obtime'] = pd.to_datetime(df['obtime'], format='%Y-%m-%d %H:%M:%S')\n",
        "df['year'] = df['obtime'].dt.year\n",
        "df['month'] = df['obtime'].dt.month\n",
        "df['iswinter'] = df['month'].isin([12, 1, 2, 3]).astype(int) \n",
        "df['isday'] = ((df['obtime'].dt.hour >= 6) & (df['obtime'].dt.hour <= 18)).astype(int)"
      ]
    },
    {
      "cell_type": "code",
      "execution_count": 9,
      "metadata": {
        "id": "3lQ9lzkWcjRY"
      },
      "outputs": [],
      "source": [
        "df = df.drop(df[(df['iswinter'] == 0)].index) # drop all months besides Nov to Mar\n",
        "df = df.dropna(subset=['tmpf', 'dwpf', 'gust', 'sknt', 'obtime']) # Drop all rows with NaN values"
      ]
    },
    {
      "cell_type": "markdown",
      "metadata": {
        "id": "b6NMWIaXflyw"
      },
      "source": [
        "## Station Unique ID"
      ]
    },
    {
      "cell_type": "markdown",
      "metadata": {
        "id": "OnDOdqOkj7k-"
      },
      "source": [
        "New column: **stationid**\n",
        "\n",
        "This identifier is created to associate each station with its respective winter season. \n",
        "For example: **VT019-19-20** represents data from station **VT019** during the winter season of 2019-2020."
      ]
    },
    {
      "cell_type": "code",
      "execution_count": 10,
      "metadata": {
        "id": "g4l3YTE0dAyT"
      },
      "outputs": [],
      "source": [
        "# Return an ID for the winter season with the station ID\n",
        "\n",
        "def get_winter(row):\n",
        "    if row['month'] in [11, 12]:  # If month is Nov or Dec\n",
        "        winter = f\"{row['station']}-{str(row['year'])[2:]}-{str(row['year']+1)[2:]}\"\n",
        "    else:  # If month is Jan, Feb, or Mar\n",
        "        winter = f\"{row['station']}-{str(row['year']-1)[2:]}-{str(row['year'])[2:]}\"\n",
        "    return winter\n",
        "\n",
        "df['stationid'] = df.apply(get_winter, axis=1) # Create a cluster ID for each winter season at each station"
      ]
    },
    {
      "cell_type": "markdown",
      "metadata": {
        "id": "Pw2Sbb4QfsXu"
      },
      "source": [
        "## Relative Humidity"
      ]
    },
    {
      "cell_type": "markdown",
      "metadata": {
        "id": "x4WtynJxkftc"
      },
      "source": [
        "New column: **rh**\n",
        "\n",
        "This represents relative humidity, calculated using **tmpf** and **dwpf** (temperature and dew point temperature).\n",
        "The calculation follows the equation from: https://www.omnicalculator.com/physics/relative-humidity"
      ]
    },
    {
      "cell_type": "code",
      "execution_count": 11,
      "metadata": {
        "id": "Azu7A7Exfzmv"
      },
      "outputs": [],
      "source": [
        "def calc_rh(tmpf, dwpf):\n",
        "    e_ta = 6.112 * np.exp((17.625 * (tmpf - 32) * 5.0/9.0) / ((tmpf - 32) * 5.0/9.0 + 243.04))\n",
        "    e_td = 6.112 * np.exp((17.625 * (dwpf - 32) * 5.0/9.0) / ((dwpf - 32) * 5.0/9.0 + 243.04))\n",
        "\n",
        "    rh = 100 * (e_td / e_ta)\n",
        "    return rh\n",
        "\n",
        "df['rh'] = calc_rh(df['tmpf'], df['dwpf']) # Calculate relative humidity"
      ]
    },
    {
      "cell_type": "markdown",
      "metadata": {
        "id": "HlHSaZRXfbTF"
      },
      "source": [
        "## Surface Conditions"
      ]
    },
    {
      "cell_type": "markdown",
      "metadata": {
        "id": "6_TGgb1LkuKD"
      },
      "source": [
        "New column: **conditions** <br>\n",
        "Calculated using the majority vote from **tfs0_text, tfs1_text, tfs2_text, tfs3_text**"
      ]
    },
    {
      "cell_type": "code",
      "execution_count": 12,
      "metadata": {
        "id": "FyABoOh_dDrK"
      },
      "outputs": [],
      "source": [
        "# Many stations have multiple ground condition sensors, so we need to find the most common value\n",
        "# For example: (Wet, NaN, Wet) should be Wet\n",
        "def fast_majority_vote(df, cols):\n",
        "    def get_mode(row):\n",
        "        # Get value counts of non-NaN values\n",
        "        counts = row.value_counts()\n",
        "        if len(counts) == 0:\n",
        "            return np.nan\n",
        "        # Check if most common value appears more than half of non-NaN values\n",
        "        if counts.iloc[0] > row.count()/2:\n",
        "            return counts.index[0]\n",
        "        return np.nan\n",
        "\n",
        "    return df[cols].apply(get_mode, axis=1)\n",
        "\n",
        "df['conditions'] = fast_majority_vote(df, ['tfs0_text', 'tfs1_text', 'tfs2_text', 'tfs3_text']) # Get most common ground condition\n",
        "df = df.dropna(subset=['conditions']) # Drop rows with NaN values in conditions"
      ]
    },
    {
      "cell_type": "code",
      "execution_count": 13,
      "metadata": {
        "colab": {
          "base_uri": "https://localhost:8080/"
        },
        "id": "rw-_Zhbnt9F-",
        "outputId": "d8090d5f-7067-4237-e0e3-33c4850dad3a"
      },
      "outputs": [
        {
          "name": "stdout",
          "output_type": "stream",
          "text": [
            "Unique Surface Condition ['Dry' 'Wet' 'Moist' 'Snow/Ice Watch' 'Frost' 'Snow/Ice Warning'\n",
            " 'Wet Below Freezing' 'Slush']\n"
          ]
        }
      ],
      "source": [
        "condtion_unique = df['conditions'].unique()\n",
        "print(\"Unique Surface Condition\", condtion_unique)"
      ]
    },
    {
      "cell_type": "markdown",
      "metadata": {
        "id": "4AtQ7wMwlfEE"
      },
      "source": [
        "## Ice Surface Condition"
      ]
    },
    {
      "cell_type": "markdown",
      "metadata": {
        "id": "3sBVCKNyljpW"
      },
      "source": [
        "New column: **isice**\n",
        "\n",
        "Calculated using **conditions**"
      ]
    },
    {
      "cell_type": "code",
      "execution_count": 14,
      "metadata": {
        "id": "6QfkQaISld3c"
      },
      "outputs": [],
      "source": [
        "df['isice'] = df['conditions'].str.contains('Ice|Frost|Slush', case=False).astype(int) # 1 if ice or frost, 0 if not"
      ]
    },
    {
      "cell_type": "code",
      "execution_count": 15,
      "metadata": {
        "colab": {
          "base_uri": "https://localhost:8080/"
        },
        "id": "nn59VK01uTNR",
        "outputId": "66f33128-ea15-4cf2-bf92-ccd0e6473182"
      },
      "outputs": [
        {
          "name": "stdout",
          "output_type": "stream",
          "text": [
            "isice\n",
            "0    681332\n",
            "1     85136\n",
            "Name: count, dtype: int64\n"
          ]
        }
      ],
      "source": [
        "ice_count = df['isice'].value_counts()\n",
        "print(ice_count)"
      ]
    },
    {
      "cell_type": "markdown",
      "metadata": {
        "id": "bW7SEC7Bf1pE"
      },
      "source": [
        "## Sort:  Station ID and Time"
      ]
    },
    {
      "cell_type": "markdown",
      "metadata": {
        "id": "_eIF_Wk9dijw"
      },
      "source": [
        "For sequential data\n",
        "\n",
        "Group 1:\n",
        "```\n",
        "VT02-20-21 ...... 2020-11-01 00:05:02\n",
        "VT02-20-21 ...... 2020-11-01 00:35:02\n",
        "......\n",
        "```\n",
        "\n",
        "Group 2\n",
        "```\n",
        "VT01-20-21 ...... 2020-11-01 00:05:02\n",
        "VT01-20-21 ...... 2020-11-01 00:35:02\n",
        ".......\n",
        "```\n",
        "\n",
        "\n",
        "\n"
      ]
    },
    {
      "cell_type": "code",
      "execution_count": 16,
      "metadata": {
        "id": "a9QPpBuKdE4-"
      },
      "outputs": [],
      "source": [
        "df = df.sort_values(['stationid', 'obtime'])"
      ]
    },
    {
      "cell_type": "markdown",
      "metadata": {
        "id": "0Axsd0wQmCjn"
      },
      "source": [
        "## Time Difference"
      ]
    },
    {
      "cell_type": "markdown",
      "metadata": {
        "id": "gt6cdsUAmG-r"
      },
      "source": [
        "New columns: **tdiff**\n",
        "\n",
        "Calculated using **obtime**, by comparing the time difference between the current and previous rows\n",
        "\n",
        "RWIS dataset have an inconsistent interval between different weather records. For example, an interval may look like this in a station:\n",
        "10min, 20min, 15 min ....\n",
        "\n",
        "LSTM model assume the interval to be constant, so we include tdiff as a feature in the model instead."
      ]
    },
    {
      "cell_type": "code",
      "execution_count": 17,
      "metadata": {
        "id": "NxGBnvW4dJLX"
      },
      "outputs": [],
      "source": [
        "df['tdiff'] = df['obtime'].diff().dt.total_seconds() / 60 # to minute\n",
        "df['tdiff'] = df['tdiff'].fillna(0)"
      ]
    },
    {
      "cell_type": "code",
      "execution_count": 18,
      "metadata": {
        "id": "JZrVFHI1dMe5"
      },
      "outputs": [],
      "source": [
        "df = df.drop(df[(df['tdiff'] > 60) | (df['tdiff'] < 0)].index) # Drop rows with time difference greater than 60 minutes\n",
        "df['tdiff'] = df['obtime'].diff().dt.total_seconds() / 60 # to minute\n",
        "df['tdiff'] = df['tdiff'].fillna(0)"
      ]
    },
    {
      "cell_type": "markdown",
      "metadata": {
        "id": "MZ-iK4xNmSvG"
      },
      "source": [
        "## Group by Station ID"
      ]
    },
    {
      "cell_type": "code",
      "execution_count": 19,
      "metadata": {
        "id": "T5y8sgwrdNox"
      },
      "outputs": [],
      "source": [
        "df = df.groupby('stationid').filter(lambda x: len(x) >= 100)\n",
        "station = df['stationid'].unique()\n",
        "counts = df.groupby('stationid').size()"
      ]
    },
    {
      "cell_type": "markdown",
      "metadata": {
        "id": "PZdR7hkwmV9i"
      },
      "source": [
        "## Output"
      ]
    },
    {
      "cell_type": "code",
      "execution_count": 20,
      "metadata": {
        "id": "kHch5DgqdQKN"
      },
      "outputs": [],
      "source": [
        "output = df[['stationid', 'tmpf', 'dwpf', 'rh', 'sknt','gust', 'tdiff', 'conditions', 'isday',  'isice']]"
      ]
    },
    {
      "cell_type": "code",
      "execution_count": 21,
      "metadata": {
        "colab": {
          "base_uri": "https://localhost:8080/",
          "height": 175
        },
        "id": "nvxX5lLKqk7C",
        "outputId": "5e81d0b8-0647-4562-9183-071efda9a02b"
      },
      "outputs": [
        {
          "data": {
            "text/html": [
              "<div>\n",
              "<style scoped>\n",
              "    .dataframe tbody tr th:only-of-type {\n",
              "        vertical-align: middle;\n",
              "    }\n",
              "\n",
              "    .dataframe tbody tr th {\n",
              "        vertical-align: top;\n",
              "    }\n",
              "\n",
              "    .dataframe thead th {\n",
              "        text-align: right;\n",
              "    }\n",
              "</style>\n",
              "<table border=\"1\" class=\"dataframe\">\n",
              "  <thead>\n",
              "    <tr style=\"text-align: right;\">\n",
              "      <th></th>\n",
              "      <th>stationid</th>\n",
              "      <th>tmpf</th>\n",
              "      <th>dwpf</th>\n",
              "      <th>rh</th>\n",
              "      <th>sknt</th>\n",
              "      <th>gust</th>\n",
              "      <th>tdiff</th>\n",
              "      <th>conditions</th>\n",
              "      <th>isday</th>\n",
              "      <th>isice</th>\n",
              "    </tr>\n",
              "  </thead>\n",
              "  <tbody>\n",
              "    <tr>\n",
              "      <th>3938412</th>\n",
              "      <td>VT005-23-24</td>\n",
              "      <td>32.360012</td>\n",
              "      <td>25.699990</td>\n",
              "      <td>76.184086</td>\n",
              "      <td>6.414687</td>\n",
              "      <td>12.051835</td>\n",
              "      <td>100.0</td>\n",
              "      <td>Wet</td>\n",
              "      <td>1</td>\n",
              "      <td>0</td>\n",
              "    </tr>\n",
              "    <tr>\n",
              "      <th>2343952</th>\n",
              "      <td>VT025-21-22</td>\n",
              "      <td>35.419980</td>\n",
              "      <td>43.340023</td>\n",
              "      <td>136.153151</td>\n",
              "      <td>2.526998</td>\n",
              "      <td>3.304535</td>\n",
              "      <td>35.0</td>\n",
              "      <td>Wet</td>\n",
              "      <td>1</td>\n",
              "      <td>0</td>\n",
              "    </tr>\n",
              "    <tr>\n",
              "      <th>3042123</th>\n",
              "      <td>VT011-22-23</td>\n",
              "      <td>22.280000</td>\n",
              "      <td>21.380000</td>\n",
              "      <td>96.270713</td>\n",
              "      <td>4.276458</td>\n",
              "      <td>8.552916</td>\n",
              "      <td>25.0</td>\n",
              "      <td>Dry</td>\n",
              "      <td>1</td>\n",
              "      <td>0</td>\n",
              "    </tr>\n",
              "    <tr>\n",
              "      <th>3037532</th>\n",
              "      <td>VT034-22-23</td>\n",
              "      <td>23.360010</td>\n",
              "      <td>17.599989</td>\n",
              "      <td>78.286525</td>\n",
              "      <td>7.775378</td>\n",
              "      <td>11.468682</td>\n",
              "      <td>30.0</td>\n",
              "      <td>Dry</td>\n",
              "      <td>1</td>\n",
              "      <td>0</td>\n",
              "    </tr>\n",
              "  </tbody>\n",
              "</table>\n",
              "</div>"
            ],
            "text/plain": [
              "           stationid       tmpf       dwpf          rh      sknt       gust  \\\n",
              "3938412  VT005-23-24  32.360012  25.699990   76.184086  6.414687  12.051835   \n",
              "2343952  VT025-21-22  35.419980  43.340023  136.153151  2.526998   3.304535   \n",
              "3042123  VT011-22-23  22.280000  21.380000   96.270713  4.276458   8.552916   \n",
              "3037532  VT034-22-23  23.360010  17.599989   78.286525  7.775378  11.468682   \n",
              "\n",
              "         tdiff conditions  isday  isice  \n",
              "3938412  100.0        Wet      1      0  \n",
              "2343952   35.0        Wet      1      0  \n",
              "3042123   25.0        Dry      1      0  \n",
              "3037532   30.0        Dry      1      0  "
            ]
          },
          "execution_count": 21,
          "metadata": {},
          "output_type": "execute_result"
        }
      ],
      "source": [
        "output.sample(4)"
      ]
    },
    {
      "cell_type": "markdown",
      "metadata": {
        "id": "cn9CtKjeuj3m"
      },
      "source": [
        "Make sure the output doesn't have any NA values. Otherwise the model won't be happy."
      ]
    },
    {
      "cell_type": "code",
      "execution_count": 22,
      "metadata": {
        "colab": {
          "base_uri": "https://localhost:8080/"
        },
        "id": "EddIgOIyuKvX",
        "outputId": "e5830214-ec4d-4811-d660-9dfae22f57cc"
      },
      "outputs": [
        {
          "name": "stdout",
          "output_type": "stream",
          "text": [
            "False\n",
            "[]\n"
          ]
        }
      ],
      "source": [
        "print(output.isna().any().any())\n",
        "columns_with_nan = output.columns[output.isna().any()].tolist()\n",
        "print(columns_with_nan)"
      ]
    },
    {
      "cell_type": "code",
      "execution_count": 23,
      "metadata": {
        "id": "vL50mLQldRqs"
      },
      "outputs": [],
      "source": [
        "output_dir = 'content/clean'\n",
        "if not os.path.exists(output_dir):\n",
        "  os.makedirs(output_dir)\n",
        "output.to_csv(output_dir+'/vt.csv')"
      ]
    },
    {
      "cell_type": "markdown",
      "metadata": {
        "id": "qArFutZVgM2R"
      },
      "source": [
        "# LSTM Model"
      ]
    },
    {
      "cell_type": "code",
      "execution_count": 24,
      "metadata": {
        "id": "AleqjBburFDq"
      },
      "outputs": [],
      "source": [
        "from sklearn.model_selection import train_test_split\n",
        "from sklearn.preprocessing import StandardScaler\n",
        "from tensorflow.keras.models import Sequential\n",
        "from tensorflow.keras.layers import LSTM, Dense, Dropout\n",
        "from tensorflow.keras.optimizers import Adam"
      ]
    },
    {
      "cell_type": "code",
      "execution_count": 27,
      "metadata": {
        "id": "_rJSd849rt9A"
      },
      "outputs": [],
      "source": [
        "data = pd.read_csv('content/clean/vt.csv', sep=',')"
      ]
    },
    {
      "cell_type": "code",
      "execution_count": 28,
      "metadata": {
        "id": "9M2WDIkLsFXB"
      },
      "outputs": [],
      "source": [
        "features = ['tmpf', 'rh', 'sknt', 'gust', 'tdiff', 'isday']\n",
        "target = 'isice'\n",
        "X = data[features].values\n",
        "y = data[target].values"
      ]
    },
    {
      "cell_type": "markdown",
      "metadata": {
        "id": "EIpMVhnooXkE"
      },
      "source": [
        "## Normalization"
      ]
    },
    {
      "cell_type": "markdown",
      "metadata": {},
      "source": [
        "Normalization is a crucial preprocessing step that scales all features to a common range, preventing any single feature from dominating the model due to its magnitude. For this analysis, we use **StandardScaler**.\n",
        "\n",
        "For example, instead of temperature (**tmpf**) ranging from -20°F to 60°F, standardization converts these values to approximately -2.5 to 2.5, representing z-scores calculated using the sample mean and standard deviation. This ensures no column has disproportionate influence on the model.\n",
        "\n",
        "An alternative approach would be to use MinMaxScaler, which scales features to a specific range (typically 0 to 1).\n",
        "\n",
        "For more information on StandardScaler, see: https://scikit-learn.org/stable/modules/generated/sklearn.preprocessing.StandardScaler.html"
      ]
    },
    {
      "cell_type": "code",
      "execution_count": 29,
      "metadata": {
        "id": "DW3xD_7psQxj"
      },
      "outputs": [],
      "source": [
        "# Scale the features\n",
        "scaler = StandardScaler()\n",
        "X_scaled = scaler.fit_transform(X)"
      ]
    },
    {
      "cell_type": "markdown",
      "metadata": {
        "id": "pUgP2-mWghi4"
      },
      "source": [
        "## Class Imbalance Handling"
      ]
    },
    {
      "cell_type": "code",
      "execution_count": 30,
      "metadata": {},
      "outputs": [
        {
          "name": "stdout",
          "output_type": "stream",
          "text": [
            "isice\n",
            "0    676117\n",
            "1     84040\n",
            "Name: count, dtype: int64\n"
          ]
        }
      ],
      "source": [
        "ice_count = df['isice'].value_counts()\n",
        "print(ice_count)"
      ]
    },
    {
      "cell_type": "markdown",
      "metadata": {},
      "source": [
        "Our target variable *isice* appears in only approximately 11% of the dataset, creating a significant class imbalance. To address this issue and improve model training, we resampled our input data to achieve a more balanced distribution where positive cases (*isice* = 1) represent approximately 50% of the training data."
      ]
    },
    {
      "cell_type": "code",
      "execution_count": 31,
      "metadata": {
        "id": "GoL98clBshuv"
      },
      "outputs": [],
      "source": [
        "def get_event_windows(X, y, sequence_length, window_size, include_non_events=True):\n",
        "    \"\"\"\n",
        "    Extract windows around ice events (where y=1) and optionally include some non-event periods\n",
        "\n",
        "    Parameters:\n",
        "    -----------\n",
        "    X : array-like\n",
        "        Input features\n",
        "    y : array-like\n",
        "        Target values\n",
        "    sequence_length : int\n",
        "        Length of each sequence\n",
        "    window_size : int\n",
        "        Number of time steps before and after an event to include\n",
        "    include_non_events : bool\n",
        "        Whether to include some non-event periods\n",
        "    \"\"\"\n",
        "    event_indices = np.where(y == 1)[0]\n",
        "    X_windows = []\n",
        "    y_windows = []\n",
        "\n",
        "    # Get sequences around events\n",
        "    for idx in event_indices:\n",
        "        # Define window boundaries\n",
        "        start = max(0, idx - window_size)\n",
        "        end = min(len(X), idx + window_size)\n",
        "\n",
        "        # Extract sequences within this window\n",
        "        for i in range(start, end - sequence_length):\n",
        "            X_windows.append(X[i:(i + sequence_length)])\n",
        "            y_windows.append(y[i + sequence_length])\n",
        "\n",
        "    if include_non_events:\n",
        "        # Get some non-event sequences (randomly sampled)\n",
        "        non_event_indices = np.where(y == 0)[0]\n",
        "        # Sample same number of non-events as events\n",
        "        sample_size = min(len(event_indices) * window_size, len(non_event_indices))\n",
        "        sampled_indices = np.random.choice(non_event_indices, size=sample_size, replace=False)\n",
        "\n",
        "        for idx in sampled_indices:\n",
        "            if idx + sequence_length < len(X):\n",
        "                X_windows.append(X[idx:(idx + sequence_length)])\n",
        "                y_windows.append(y[idx + sequence_length])\n",
        "\n",
        "    return np.array(X_windows), np.array(y_windows)"
      ]
    },
    {
      "cell_type": "code",
      "execution_count": 32,
      "metadata": {
        "colab": {
          "base_uri": "https://localhost:8080/"
        },
        "id": "ZfNPinDHsbx1",
        "outputId": "ed169547-dab4-4243-a28f-430ab72a465e"
      },
      "outputs": [
        {
          "name": "stdout",
          "output_type": "stream",
          "text": [
            "Final shapes:\n",
            "X_sequences shape: (3827751, 10, 6)\n",
            "y_sequences shape: (3827751,)\n",
            "\n",
            "Class distribution:\n",
            "[1707261 2120490]\n",
            "\n",
            "Percentage of ice events: 55.39780259132385 %\n"
          ]
        }
      ],
      "source": [
        "# Parameters\n",
        "sequence_length = 10\n",
        "window_size = 24\n",
        "\n",
        "X_sequences = []\n",
        "y_sequences = []\n",
        "\n",
        "# Group by station and get sequences around events\n",
        "for station in df['stationid'].unique():\n",
        "    station_mask = df['stationid'] == station\n",
        "    station_X = X_scaled[station_mask]\n",
        "    station_y = y[station_mask]\n",
        "\n",
        "    # Get sequences around events\n",
        "    X_event, y_event = get_event_windows(station_X, station_y,\n",
        "                                        sequence_length,\n",
        "                                        window_size,\n",
        "                                        include_non_events=True)\n",
        "\n",
        "    if len(X_event) > 0:\n",
        "        X_sequences.extend(X_event)\n",
        "        y_sequences.extend(y_event)\n",
        "\n",
        "# Convert to numpy arrays\n",
        "X_sequences = np.array(X_sequences, dtype='float32')\n",
        "y_sequences = np.array(y_sequences, dtype='float32')\n",
        "\n",
        "# Print information about the dataset\n",
        "print(\"Final shapes:\")\n",
        "print(\"X_sequences shape:\", X_sequences.shape)\n",
        "print(\"y_sequences shape:\", y_sequences.shape)\n",
        "print(\"\\nClass distribution:\")\n",
        "print(np.bincount(y_sequences.astype(int)))\n",
        "print(\"\\nPercentage of ice events:\", np.mean(y_sequences) * 100, \"%\")\n",
        "\n",
        "# Optional: Shuffle the data\n",
        "indices = np.arange(len(X_sequences))\n",
        "np.random.shuffle(indices)\n",
        "X_sequences = X_sequences[indices]\n",
        "y_sequences = y_sequences[indices]"
      ]
    },
    {
      "cell_type": "markdown",
      "metadata": {
        "id": "5oCBMUYKszEQ"
      },
      "source": [
        "## Training/Testing Split"
      ]
    },
    {
      "cell_type": "code",
      "execution_count": 33,
      "metadata": {
        "id": "fo0KcfBps2Zf"
      },
      "outputs": [],
      "source": [
        "# Split the data\n",
        "X_train, X_test, y_train, y_test = train_test_split(\n",
        "    X_sequences, y_sequences, test_size=0.2, random_state=42\n",
        ")"
      ]
    },
    {
      "cell_type": "markdown",
      "metadata": {
        "id": "Ds0rFfTPgfL2"
      },
      "source": [
        "## Build Model"
      ]
    },
    {
      "cell_type": "code",
      "execution_count": 34,
      "metadata": {
        "colab": {
          "base_uri": "https://localhost:8080/",
          "height": 320
        },
        "id": "IdgJCWdos4RF",
        "outputId": "1b9a98fd-0c0d-4101-a336-c4f729e816f9"
      },
      "outputs": [
        {
          "name": "stderr",
          "output_type": "stream",
          "text": [
            "/opt/miniconda3/envs/engs90/lib/python3.12/site-packages/keras/src/layers/rnn/rnn.py:200: UserWarning: Do not pass an `input_shape`/`input_dim` argument to a layer. When using Sequential models, prefer using an `Input(shape)` object as the first layer in the model instead.\n",
            "  super().__init__(**kwargs)\n"
          ]
        },
        {
          "data": {
            "text/html": [
              "<pre style=\"white-space:pre;overflow-x:auto;line-height:normal;font-family:Menlo,'DejaVu Sans Mono',consolas,'Courier New',monospace\"><span style=\"font-weight: bold\">Model: \"sequential\"</span>\n",
              "</pre>\n"
            ],
            "text/plain": [
              "\u001b[1mModel: \"sequential\"\u001b[0m\n"
            ]
          },
          "metadata": {},
          "output_type": "display_data"
        },
        {
          "data": {
            "text/html": [
              "<pre style=\"white-space:pre;overflow-x:auto;line-height:normal;font-family:Menlo,'DejaVu Sans Mono',consolas,'Courier New',monospace\">┏━━━━━━━━━━━━━━━━━━━━━━━━━━━━━━━━━┳━━━━━━━━━━━━━━━━━━━━━━━━┳━━━━━━━━━━━━━━━┓\n",
              "┃<span style=\"font-weight: bold\"> Layer (type)                    </span>┃<span style=\"font-weight: bold\"> Output Shape           </span>┃<span style=\"font-weight: bold\">       Param # </span>┃\n",
              "┡━━━━━━━━━━━━━━━━━━━━━━━━━━━━━━━━━╇━━━━━━━━━━━━━━━━━━━━━━━━╇━━━━━━━━━━━━━━━┩\n",
              "│ lstm (<span style=\"color: #0087ff; text-decoration-color: #0087ff\">LSTM</span>)                     │ (<span style=\"color: #00d7ff; text-decoration-color: #00d7ff\">None</span>, <span style=\"color: #00af00; text-decoration-color: #00af00\">10</span>, <span style=\"color: #00af00; text-decoration-color: #00af00\">128</span>)        │        <span style=\"color: #00af00; text-decoration-color: #00af00\">69,120</span> │\n",
              "├─────────────────────────────────┼────────────────────────┼───────────────┤\n",
              "│ dropout (<span style=\"color: #0087ff; text-decoration-color: #0087ff\">Dropout</span>)               │ (<span style=\"color: #00d7ff; text-decoration-color: #00d7ff\">None</span>, <span style=\"color: #00af00; text-decoration-color: #00af00\">10</span>, <span style=\"color: #00af00; text-decoration-color: #00af00\">128</span>)        │             <span style=\"color: #00af00; text-decoration-color: #00af00\">0</span> │\n",
              "├─────────────────────────────────┼────────────────────────┼───────────────┤\n",
              "│ lstm_1 (<span style=\"color: #0087ff; text-decoration-color: #0087ff\">LSTM</span>)                   │ (<span style=\"color: #00d7ff; text-decoration-color: #00d7ff\">None</span>, <span style=\"color: #00af00; text-decoration-color: #00af00\">64</span>)             │        <span style=\"color: #00af00; text-decoration-color: #00af00\">49,408</span> │\n",
              "├─────────────────────────────────┼────────────────────────┼───────────────┤\n",
              "│ dropout_1 (<span style=\"color: #0087ff; text-decoration-color: #0087ff\">Dropout</span>)             │ (<span style=\"color: #00d7ff; text-decoration-color: #00d7ff\">None</span>, <span style=\"color: #00af00; text-decoration-color: #00af00\">64</span>)             │             <span style=\"color: #00af00; text-decoration-color: #00af00\">0</span> │\n",
              "├─────────────────────────────────┼────────────────────────┼───────────────┤\n",
              "│ dense (<span style=\"color: #0087ff; text-decoration-color: #0087ff\">Dense</span>)                   │ (<span style=\"color: #00d7ff; text-decoration-color: #00d7ff\">None</span>, <span style=\"color: #00af00; text-decoration-color: #00af00\">32</span>)             │         <span style=\"color: #00af00; text-decoration-color: #00af00\">2,080</span> │\n",
              "├─────────────────────────────────┼────────────────────────┼───────────────┤\n",
              "│ dense_1 (<span style=\"color: #0087ff; text-decoration-color: #0087ff\">Dense</span>)                 │ (<span style=\"color: #00d7ff; text-decoration-color: #00d7ff\">None</span>, <span style=\"color: #00af00; text-decoration-color: #00af00\">16</span>)             │           <span style=\"color: #00af00; text-decoration-color: #00af00\">528</span> │\n",
              "├─────────────────────────────────┼────────────────────────┼───────────────┤\n",
              "│ dense_2 (<span style=\"color: #0087ff; text-decoration-color: #0087ff\">Dense</span>)                 │ (<span style=\"color: #00d7ff; text-decoration-color: #00d7ff\">None</span>, <span style=\"color: #00af00; text-decoration-color: #00af00\">1</span>)              │            <span style=\"color: #00af00; text-decoration-color: #00af00\">17</span> │\n",
              "└─────────────────────────────────┴────────────────────────┴───────────────┘\n",
              "</pre>\n"
            ],
            "text/plain": [
              "┏━━━━━━━━━━━━━━━━━━━━━━━━━━━━━━━━━┳━━━━━━━━━━━━━━━━━━━━━━━━┳━━━━━━━━━━━━━━━┓\n",
              "┃\u001b[1m \u001b[0m\u001b[1mLayer (type)                   \u001b[0m\u001b[1m \u001b[0m┃\u001b[1m \u001b[0m\u001b[1mOutput Shape          \u001b[0m\u001b[1m \u001b[0m┃\u001b[1m \u001b[0m\u001b[1m      Param #\u001b[0m\u001b[1m \u001b[0m┃\n",
              "┡━━━━━━━━━━━━━━━━━━━━━━━━━━━━━━━━━╇━━━━━━━━━━━━━━━━━━━━━━━━╇━━━━━━━━━━━━━━━┩\n",
              "│ lstm (\u001b[38;5;33mLSTM\u001b[0m)                     │ (\u001b[38;5;45mNone\u001b[0m, \u001b[38;5;34m10\u001b[0m, \u001b[38;5;34m128\u001b[0m)        │        \u001b[38;5;34m69,120\u001b[0m │\n",
              "├─────────────────────────────────┼────────────────────────┼───────────────┤\n",
              "│ dropout (\u001b[38;5;33mDropout\u001b[0m)               │ (\u001b[38;5;45mNone\u001b[0m, \u001b[38;5;34m10\u001b[0m, \u001b[38;5;34m128\u001b[0m)        │             \u001b[38;5;34m0\u001b[0m │\n",
              "├─────────────────────────────────┼────────────────────────┼───────────────┤\n",
              "│ lstm_1 (\u001b[38;5;33mLSTM\u001b[0m)                   │ (\u001b[38;5;45mNone\u001b[0m, \u001b[38;5;34m64\u001b[0m)             │        \u001b[38;5;34m49,408\u001b[0m │\n",
              "├─────────────────────────────────┼────────────────────────┼───────────────┤\n",
              "│ dropout_1 (\u001b[38;5;33mDropout\u001b[0m)             │ (\u001b[38;5;45mNone\u001b[0m, \u001b[38;5;34m64\u001b[0m)             │             \u001b[38;5;34m0\u001b[0m │\n",
              "├─────────────────────────────────┼────────────────────────┼───────────────┤\n",
              "│ dense (\u001b[38;5;33mDense\u001b[0m)                   │ (\u001b[38;5;45mNone\u001b[0m, \u001b[38;5;34m32\u001b[0m)             │         \u001b[38;5;34m2,080\u001b[0m │\n",
              "├─────────────────────────────────┼────────────────────────┼───────────────┤\n",
              "│ dense_1 (\u001b[38;5;33mDense\u001b[0m)                 │ (\u001b[38;5;45mNone\u001b[0m, \u001b[38;5;34m16\u001b[0m)             │           \u001b[38;5;34m528\u001b[0m │\n",
              "├─────────────────────────────────┼────────────────────────┼───────────────┤\n",
              "│ dense_2 (\u001b[38;5;33mDense\u001b[0m)                 │ (\u001b[38;5;45mNone\u001b[0m, \u001b[38;5;34m1\u001b[0m)              │            \u001b[38;5;34m17\u001b[0m │\n",
              "└─────────────────────────────────┴────────────────────────┴───────────────┘\n"
            ]
          },
          "metadata": {},
          "output_type": "display_data"
        },
        {
          "data": {
            "text/html": [
              "<pre style=\"white-space:pre;overflow-x:auto;line-height:normal;font-family:Menlo,'DejaVu Sans Mono',consolas,'Courier New',monospace\"><span style=\"font-weight: bold\"> Total params: </span><span style=\"color: #00af00; text-decoration-color: #00af00\">121,153</span> (473.25 KB)\n",
              "</pre>\n"
            ],
            "text/plain": [
              "\u001b[1m Total params: \u001b[0m\u001b[38;5;34m121,153\u001b[0m (473.25 KB)\n"
            ]
          },
          "metadata": {},
          "output_type": "display_data"
        },
        {
          "data": {
            "text/html": [
              "<pre style=\"white-space:pre;overflow-x:auto;line-height:normal;font-family:Menlo,'DejaVu Sans Mono',consolas,'Courier New',monospace\"><span style=\"font-weight: bold\"> Trainable params: </span><span style=\"color: #00af00; text-decoration-color: #00af00\">121,153</span> (473.25 KB)\n",
              "</pre>\n"
            ],
            "text/plain": [
              "\u001b[1m Trainable params: \u001b[0m\u001b[38;5;34m121,153\u001b[0m (473.25 KB)\n"
            ]
          },
          "metadata": {},
          "output_type": "display_data"
        },
        {
          "data": {
            "text/html": [
              "<pre style=\"white-space:pre;overflow-x:auto;line-height:normal;font-family:Menlo,'DejaVu Sans Mono',consolas,'Courier New',monospace\"><span style=\"font-weight: bold\"> Non-trainable params: </span><span style=\"color: #00af00; text-decoration-color: #00af00\">0</span> (0.00 B)\n",
              "</pre>\n"
            ],
            "text/plain": [
              "\u001b[1m Non-trainable params: \u001b[0m\u001b[38;5;34m0\u001b[0m (0.00 B)\n"
            ]
          },
          "metadata": {},
          "output_type": "display_data"
        }
      ],
      "source": [
        "# Build LSTM Model\n",
        "\n",
        "model = Sequential([\n",
        "    LSTM(128, input_shape=(sequence_length, len(features)), return_sequences=True), \n",
        "    Dropout(0.2),\n",
        "    LSTM(64, return_sequences=False),\n",
        "    Dropout(0.2),\n",
        "    Dense(32, activation='relu'),\n",
        "    Dense(16, activation='relu'),\n",
        "    Dense(1, activation='sigmoid')\n",
        "])\n",
        "\n",
        "model.compile(optimizer=Adam(learning_rate=0.001), \n",
        "              loss='binary_crossentropy',\n",
        "              metrics=['accuracy'])\n",
        "\n",
        "model.summary()"
      ]
    },
    {
      "cell_type": "markdown",
      "metadata": {
        "id": "7nFt9-itgcXF"
      },
      "source": [
        "## Train"
      ]
    },
    {
      "cell_type": "code",
      "execution_count": 35,
      "metadata": {
        "colab": {
          "base_uri": "https://localhost:8080/",
          "height": 436
        },
        "id": "Ll-va3cYs6z_",
        "outputId": "93831018-40fa-40eb-96e2-29cdb98410af"
      },
      "outputs": [
        {
          "name": "stdout",
          "output_type": "stream",
          "text": [
            "Epoch 1/10\n",
            "\u001b[1m76555/76555\u001b[0m \u001b[32m━━━━━━━━━━━━━━━━━━━━\u001b[0m\u001b[37m\u001b[0m \u001b[1m497s\u001b[0m 6ms/step - accuracy: 0.7606 - loss: 0.5047 - val_accuracy: 0.8175 - val_loss: 0.4029\n",
            "Epoch 2/10\n",
            "\u001b[1m76555/76555\u001b[0m \u001b[32m━━━━━━━━━━━━━━━━━━━━\u001b[0m\u001b[37m\u001b[0m \u001b[1m473s\u001b[0m 6ms/step - accuracy: 0.8253 - loss: 0.3888 - val_accuracy: 0.8702 - val_loss: 0.3087\n",
            "Epoch 3/10\n",
            "\u001b[1m76555/76555\u001b[0m \u001b[32m━━━━━━━━━━━━━━━━━━━━\u001b[0m\u001b[37m\u001b[0m \u001b[1m486s\u001b[0m 6ms/step - accuracy: 0.8654 - loss: 0.3159 - val_accuracy: 0.8938 - val_loss: 0.2629\n",
            "Epoch 4/10\n",
            "\u001b[1m76555/76555\u001b[0m \u001b[32m━━━━━━━━━━━━━━━━━━━━\u001b[0m\u001b[37m\u001b[0m \u001b[1m493s\u001b[0m 6ms/step - accuracy: 0.8863 - loss: 0.2758 - val_accuracy: 0.9080 - val_loss: 0.2345\n",
            "Epoch 5/10\n",
            "\u001b[1m76555/76555\u001b[0m \u001b[32m━━━━━━━━━━━━━━━━━━━━\u001b[0m\u001b[37m\u001b[0m \u001b[1m522s\u001b[0m 7ms/step - accuracy: 0.8981 - loss: 0.2520 - val_accuracy: 0.9152 - val_loss: 0.2199\n",
            "Epoch 6/10\n",
            "\u001b[1m76555/76555\u001b[0m \u001b[32m━━━━━━━━━━━━━━━━━━━━\u001b[0m\u001b[37m\u001b[0m \u001b[1m542s\u001b[0m 7ms/step - accuracy: 0.9064 - loss: 0.2350 - val_accuracy: 0.9233 - val_loss: 0.2025\n",
            "Epoch 7/10\n",
            "\u001b[1m76555/76555\u001b[0m \u001b[32m━━━━━━━━━━━━━━━━━━━━\u001b[0m\u001b[37m\u001b[0m \u001b[1m579s\u001b[0m 8ms/step - accuracy: 0.9124 - loss: 0.2224 - val_accuracy: 0.9272 - val_loss: 0.1935\n",
            "Epoch 8/10\n",
            "\u001b[1m76555/76555\u001b[0m \u001b[32m━━━━━━━━━━━━━━━━━━━━\u001b[0m\u001b[37m\u001b[0m \u001b[1m550s\u001b[0m 7ms/step - accuracy: 0.9167 - loss: 0.2133 - val_accuracy: 0.9332 - val_loss: 0.1799\n",
            "Epoch 9/10\n",
            "\u001b[1m76555/76555\u001b[0m \u001b[32m━━━━━━━━━━━━━━━━━━━━\u001b[0m\u001b[37m\u001b[0m \u001b[1m573s\u001b[0m 7ms/step - accuracy: 0.9209 - loss: 0.2050 - val_accuracy: 0.9344 - val_loss: 0.1773\n",
            "Epoch 10/10\n",
            "\u001b[1m76555/76555\u001b[0m \u001b[32m━━━━━━━━━━━━━━━━━━━━\u001b[0m\u001b[37m\u001b[0m \u001b[1m571s\u001b[0m 7ms/step - accuracy: 0.9231 - loss: 0.1992 - val_accuracy: 0.9368 - val_loss: 0.1703\n"
          ]
        }
      ],
      "source": [
        "history = model.fit(X_train, y_train,\n",
        "                   epochs=10,\n",
        "                   batch_size=32,\n",
        "                   validation_split=0.2,\n",
        "                   verbose=1)"
      ]
    },
    {
      "cell_type": "markdown",
      "metadata": {
        "id": "Z9TQ-6AAgZ4S"
      },
      "source": [
        "## Result"
      ]
    },
    {
      "cell_type": "markdown",
      "metadata": {
        "id": "UBQzp9IYoazW"
      },
      "source": [
        "### Evaluation on Test Dataset"
      ]
    },
    {
      "cell_type": "code",
      "execution_count": 36,
      "metadata": {
        "id": "N-scigLvs9cL"
      },
      "outputs": [
        {
          "name": "stdout",
          "output_type": "stream",
          "text": [
            "\u001b[1m23924/23924\u001b[0m \u001b[32m━━━━━━━━━━━━━━━━━━━━\u001b[0m\u001b[37m\u001b[0m \u001b[1m47s\u001b[0m 2ms/step - accuracy: 0.9371 - loss: 0.1691\n",
            "\n",
            "Test accuracy: 0.937\n"
          ]
        }
      ],
      "source": [
        "# Evaluate the model\n",
        "test_loss, test_accuracy = model.evaluate(X_test, y_test)\n",
        "print(f'\\nTest accuracy: {test_accuracy:.3f}')"
      ]
    },
    {
      "cell_type": "markdown",
      "metadata": {
        "id": "nw0sIQrqtEjG"
      },
      "source": [
        "### Confusion Matrix"
      ]
    },
    {
      "cell_type": "code",
      "execution_count": 37,
      "metadata": {
        "id": "YdO8so-5tAOA"
      },
      "outputs": [
        {
          "name": "stdout",
          "output_type": "stream",
          "text": [
            "\u001b[1m23924/23924\u001b[0m \u001b[32m━━━━━━━━━━━━━━━━━━━━\u001b[0m\u001b[37m\u001b[0m \u001b[1m45s\u001b[0m 2ms/step\n"
          ]
        },
        {
          "data": {
            "image/png": "[encoded data removed]",
            "text/plain": [
              "<Figure size 640x480 with 2 Axes>"
            ]
          },
          "metadata": {},
          "output_type": "display_data"
        }
      ],
      "source": [
        "from sklearn.metrics import confusion_matrix, ConfusionMatrixDisplay\n",
        "import matplotlib.pyplot as plt\n",
        "\n",
        "y_pred = model.predict(X_test)\n",
        "\n",
        "# Make sure both y_test and y_pred are in the same format\n",
        "y_test = y_test.astype(int)\n",
        "y_pred = (y_pred > 0.5).astype(int) # Convert probabilities to binary predictions\n",
        "\n",
        "cm = confusion_matrix(y_test, y_pred)\n",
        "\n",
        "disp = ConfusionMatrixDisplay(confusion_matrix=cm)\n",
        "disp.plot(cmap='Blues')\n",
        "plt.show()"
      ]
    },
    {
      "cell_type": "markdown",
      "metadata": {
        "id": "IKfiEO8Wyb0N"
      },
      "source": [
        "## Save Model"
      ]
    },
    {
      "cell_type": "code",
      "execution_count": 39,
      "metadata": {
        "id": "LtC7biEYzfc5"
      },
      "outputs": [
        {
          "name": "stdout",
          "output_type": "stream",
          "text": [
            "Model saved to content/result/model_lstm.keras\n",
            "Scaler saved to content/result/scaler_lstm.pkl\n"
          ]
        }
      ],
      "source": [
        "import joblib\n",
        "\n",
        "# Save Model\n",
        "model.save('content/result/model_lstm.keras')\n",
        "print(\"Model saved to content/result/model_lstm.keras\")\n",
        "\n",
        "# Save Scaler file\n",
        "joblib.dump(scaler, 'content/result/scaler_lstm.pkl')\n",
        "print(\"Scaler saved to content/result/scaler_lstm.pkl\")\n"
      ]
    },
    {
      "cell_type": "markdown",
      "metadata": {},
      "source": [
        "# How to use the existing weather data to predict ice formation"
      ]
    },
    {
      "cell_type": "code",
      "execution_count": 40,
      "metadata": {},
      "outputs": [
        {
          "name": "stdout",
          "output_type": "stream",
          "text": [
            "\u001b[1m1/1\u001b[0m \u001b[32m━━━━━━━━━━━━━━━━━━━━\u001b[0m\u001b[37m\u001b[0m \u001b[1m0s\u001b[0m 102ms/step\n",
            "0.0028481649\n"
          ]
        }
      ],
      "source": [
        "from sklearn.preprocessing import StandardScaler\n",
        "from tensorflow.keras.models import load_model\n",
        "\n",
        "import numpy as np\n",
        "import joblib\n",
        "\n",
        "model = load_model('content/result/model_lstm.keras')\n",
        "\n",
        "scaler = joblib.load('content/result/scaler_lstm.pkl')\n",
        "\n",
        "features = ['tmpf', 'rh', 'sknt', 'gust', 'tdiff', 'isday']\n",
        "\n",
        "# Example data with sequence of two time steps\n",
        "data = [[32.2, 91, 0, 2, 0, 1],\n",
        "        [32.2, 91, 0, 2, 10, 1]]\n",
        "\n",
        "X = np.array(data, dtype='float32')\n",
        "X_scaled = scaler.transform(X)\n",
        "\n",
        "sequence_length = len(data)\n",
        "\n",
        "res = model.predict(X_scaled.reshape(1, sequence_length, len(features)))\n",
        "print(res[0][0])\n"
      ]
    },
    {
      "cell_type": "markdown",
      "metadata": {
        "id": "_BJ-MT1egRWK"
      },
      "source": [
        "# Logistic Regression"
      ]
    },
    {
      "cell_type": "code",
      "execution_count": 41,
      "metadata": {
        "id": "Cr3u40lSyyqO"
      },
      "outputs": [],
      "source": [
        "from sklearn.linear_model import LogisticRegression\n",
        "from sklearn.metrics import classification_report, confusion_matrix\n",
        "import matplotlib.pyplot as plt\n",
        "import seaborn as sns\n",
        "from imblearn.over_sampling import SMOTE"
      ]
    },
    {
      "cell_type": "code",
      "execution_count": 42,
      "metadata": {
        "id": "QQ_WI3oRzxHD"
      },
      "outputs": [],
      "source": [
        "data = pd.read_csv('content/clean/vt.csv', sep=',')\n",
        "\n",
        "features = ['tmpf', 'rh', 'sknt', 'gust', 'tdiff', 'isday']\n",
        "target = 'isice'\n",
        "\n",
        "X = data[features].values\n",
        "y = data[target].values"
      ]
    },
    {
      "cell_type": "markdown",
      "metadata": {
        "id": "lfMn2UkH0pXk"
      },
      "source": [
        "## Train/Test Split"
      ]
    },
    {
      "cell_type": "code",
      "execution_count": 43,
      "metadata": {
        "id": "kg-e86A-0tEm"
      },
      "outputs": [],
      "source": [
        "# Split the data\n",
        "X_train, X_test, y_train, y_test = train_test_split(X, y, test_size=0.2, random_state=42)"
      ]
    },
    {
      "cell_type": "markdown",
      "metadata": {
        "id": "bmSBkOYWzrgz"
      },
      "source": [
        "## Normalization"
      ]
    },
    {
      "cell_type": "code",
      "execution_count": 44,
      "metadata": {
        "id": "-wCLS3qUzuSa"
      },
      "outputs": [],
      "source": [
        "# Scale the features\n",
        "scaler = StandardScaler()\n",
        "X_train_scaled = scaler.fit_transform(X_train)\n",
        "X_test_scaled = scaler.transform(X_test)"
      ]
    },
    {
      "cell_type": "markdown",
      "metadata": {},
      "source": [
        "## Resample"
      ]
    },
    {
      "cell_type": "markdown",
      "metadata": {},
      "source": [
        "**isice** only showed about 11% of the dataset. We want to resample to about 50%"
      ]
    },
    {
      "cell_type": "code",
      "execution_count": 45,
      "metadata": {},
      "outputs": [],
      "source": [
        "smote = SMOTE(random_state=42)\n",
        "# Apply SMOTE to training data\n",
        "X_train_resampled, y_train_resampled = smote.fit_resample(X_train_scaled, y_train)\n"
      ]
    },
    {
      "cell_type": "code",
      "execution_count": 46,
      "metadata": {},
      "outputs": [
        {
          "name": "stdout",
          "output_type": "stream",
          "text": [
            "0    540988\n",
            "1    540988\n",
            "Name: count, dtype: int64\n"
          ]
        }
      ],
      "source": [
        "ice_count = pd.Series(y_train_resampled).value_counts()\n",
        "print(ice_count)"
      ]
    },
    {
      "cell_type": "markdown",
      "metadata": {
        "id": "yBVOjkhMz75A"
      },
      "source": [
        "## Model"
      ]
    },
    {
      "cell_type": "code",
      "execution_count": 47,
      "metadata": {
        "id": "fmpnAq0rz6ac"
      },
      "outputs": [],
      "source": [
        "model = LogisticRegression(random_state=42)"
      ]
    },
    {
      "cell_type": "markdown",
      "metadata": {
        "id": "iH-5Uq2I0Bdl"
      },
      "source": [
        "## Train"
      ]
    },
    {
      "cell_type": "code",
      "execution_count": 48,
      "metadata": {
        "id": "UvgBUB5p0E4C"
      },
      "outputs": [
        {
          "data": {
            "text/html": [
              "<style>#sk-container-id-1 {\n",
              "  /* Definition of color scheme common for light and dark mode */\n",
              "  --sklearn-color-text: #000;\n",
              "  --sklearn-color-text-muted: #666;\n",
              "  --sklearn-color-line: gray;\n",
              "  /* Definition of color scheme for unfitted estimators */\n",
              "  --sklearn-color-unfitted-level-0: #fff5e6;\n",
              "  --sklearn-color-unfitted-level-1: #f6e4d2;\n",
              "  --sklearn-color-unfitted-level-2: #ffe0b3;\n",
              "  --sklearn-color-unfitted-level-3: chocolate;\n",
              "  /* Definition of color scheme for fitted estimators */\n",
              "  --sklearn-color-fitted-level-0: #f0f8ff;\n",
              "  --sklearn-color-fitted-level-1: #d4ebff;\n",
              "  --sklearn-color-fitted-level-2: #b3dbfd;\n",
              "  --sklearn-color-fitted-level-3: cornflowerblue;\n",
              "\n",
              "  /* Specific color for light theme */\n",
              "  --sklearn-color-text-on-default-background: var(--sg-text-color, var(--theme-code-foreground, var(--jp-content-font-color1, black)));\n",
              "  --sklearn-color-background: var(--sg-background-color, var(--theme-background, var(--jp-layout-color0, white)));\n",
              "  --sklearn-color-border-box: var(--sg-text-color, var(--theme-code-foreground, var(--jp-content-font-color1, black)));\n",
              "  --sklearn-color-icon: #696969;\n",
              "\n",
              "  @media (prefers-color-scheme: dark) {\n",
              "    /* Redefinition of color scheme for dark theme */\n",
              "    --sklearn-color-text-on-default-background: var(--sg-text-color, var(--theme-code-foreground, var(--jp-content-font-color1, white)));\n",
              "    --sklearn-color-background: var(--sg-background-color, var(--theme-background, var(--jp-layout-color0, #111)));\n",
              "    --sklearn-color-border-box: var(--sg-text-color, var(--theme-code-foreground, var(--jp-content-font-color1, white)));\n",
              "    --sklearn-color-icon: #878787;\n",
              "  }\n",
              "}\n",
              "\n",
              "#sk-container-id-1 {\n",
              "  color: var(--sklearn-color-text);\n",
              "}\n",
              "\n",
              "#sk-container-id-1 pre {\n",
              "  padding: 0;\n",
              "}\n",
              "\n",
              "#sk-container-id-1 input.sk-hidden--visually {\n",
              "  border: 0;\n",
              "  clip: rect(1px 1px 1px 1px);\n",
              "  clip: rect(1px, 1px, 1px, 1px);\n",
              "  height: 1px;\n",
              "  margin: -1px;\n",
              "  overflow: hidden;\n",
              "  padding: 0;\n",
              "  position: absolute;\n",
              "  width: 1px;\n",
              "}\n",
              "\n",
              "#sk-container-id-1 div.sk-dashed-wrapped {\n",
              "  border: 1px dashed var(--sklearn-color-line);\n",
              "  margin: 0 0.4em 0.5em 0.4em;\n",
              "  box-sizing: border-box;\n",
              "  padding-bottom: 0.4em;\n",
              "  background-color: var(--sklearn-color-background);\n",
              "}\n",
              "\n",
              "#sk-container-id-1 div.sk-container {\n",
              "  /* jupyter's `normalize.less` sets `[hidden] { display: none; }`\n",
              "     but bootstrap.min.css set `[hidden] { display: none !important; }`\n",
              "     so we also need the `!important` here to be able to override the\n",
              "     default hidden behavior on the sphinx rendered scikit-learn.org.\n",
              "     See: https://github.com/scikit-learn/scikit-learn/issues/21755 */\n",
              "  display: inline-block !important;\n",
              "  position: relative;\n",
              "}\n",
              "\n",
              "#sk-container-id-1 div.sk-text-repr-fallback {\n",
              "  display: none;\n",
              "}\n",
              "\n",
              "div.sk-parallel-item,\n",
              "div.sk-serial,\n",
              "div.sk-item {\n",
              "  /* draw centered vertical line to link estimators */\n",
              "  background-image: linear-gradient(var(--sklearn-color-text-on-default-background), var(--sklearn-color-text-on-default-background));\n",
              "  background-size: 2px 100%;\n",
              "  background-repeat: no-repeat;\n",
              "  background-position: center center;\n",
              "}\n",
              "\n",
              "/* Parallel-specific style estimator block */\n",
              "\n",
              "#sk-container-id-1 div.sk-parallel-item::after {\n",
              "  content: \"\";\n",
              "  width: 100%;\n",
              "  border-bottom: 2px solid var(--sklearn-color-text-on-default-background);\n",
              "  flex-grow: 1;\n",
              "}\n",
              "\n",
              "#sk-container-id-1 div.sk-parallel {\n",
              "  display: flex;\n",
              "  align-items: stretch;\n",
              "  justify-content: center;\n",
              "  background-color: var(--sklearn-color-background);\n",
              "  position: relative;\n",
              "}\n",
              "\n",
              "#sk-container-id-1 div.sk-parallel-item {\n",
              "  display: flex;\n",
              "  flex-direction: column;\n",
              "}\n",
              "\n",
              "#sk-container-id-1 div.sk-parallel-item:first-child::after {\n",
              "  align-self: flex-end;\n",
              "  width: 50%;\n",
              "}\n",
              "\n",
              "#sk-container-id-1 div.sk-parallel-item:last-child::after {\n",
              "  align-self: flex-start;\n",
              "  width: 50%;\n",
              "}\n",
              "\n",
              "#sk-container-id-1 div.sk-parallel-item:only-child::after {\n",
              "  width: 0;\n",
              "}\n",
              "\n",
              "/* Serial-specific style estimator block */\n",
              "\n",
              "#sk-container-id-1 div.sk-serial {\n",
              "  display: flex;\n",
              "  flex-direction: column;\n",
              "  align-items: center;\n",
              "  background-color: var(--sklearn-color-background);\n",
              "  padding-right: 1em;\n",
              "  padding-left: 1em;\n",
              "}\n",
              "\n",
              "\n",
              "/* Toggleable style: style used for estimator/Pipeline/ColumnTransformer box that is\n",
              "clickable and can be expanded/collapsed.\n",
              "- Pipeline and ColumnTransformer use this feature and define the default style\n",
              "- Estimators will overwrite some part of the style using the `sk-estimator` class\n",
              "*/\n",
              "\n",
              "/* Pipeline and ColumnTransformer style (default) */\n",
              "\n",
              "#sk-container-id-1 div.sk-toggleable {\n",
              "  /* Default theme specific background. It is overwritten whether we have a\n",
              "  specific estimator or a Pipeline/ColumnTransformer */\n",
              "  background-color: var(--sklearn-color-background);\n",
              "}\n",
              "\n",
              "/* Toggleable label */\n",
              "#sk-container-id-1 label.sk-toggleable__label {\n",
              "  cursor: pointer;\n",
              "  display: flex;\n",
              "  width: 100%;\n",
              "  margin-bottom: 0;\n",
              "  padding: 0.5em;\n",
              "  box-sizing: border-box;\n",
              "  text-align: center;\n",
              "  align-items: start;\n",
              "  justify-content: space-between;\n",
              "  gap: 0.5em;\n",
              "}\n",
              "\n",
              "#sk-container-id-1 label.sk-toggleable__label .caption {\n",
              "  font-size: 0.6rem;\n",
              "  font-weight: lighter;\n",
              "  color: var(--sklearn-color-text-muted);\n",
              "}\n",
              "\n",
              "#sk-container-id-1 label.sk-toggleable__label-arrow:before {\n",
              "  /* Arrow on the left of the label */\n",
              "  content: \"▸\";\n",
              "  float: left;\n",
              "  margin-right: 0.25em;\n",
              "  color: var(--sklearn-color-icon);\n",
              "}\n",
              "\n",
              "#sk-container-id-1 label.sk-toggleable__label-arrow:hover:before {\n",
              "  color: var(--sklearn-color-text);\n",
              "}\n",
              "\n",
              "/* Toggleable content - dropdown */\n",
              "\n",
              "#sk-container-id-1 div.sk-toggleable__content {\n",
              "  max-height: 0;\n",
              "  max-width: 0;\n",
              "  overflow: hidden;\n",
              "  text-align: left;\n",
              "  /* unfitted */\n",
              "  background-color: var(--sklearn-color-unfitted-level-0);\n",
              "}\n",
              "\n",
              "#sk-container-id-1 div.sk-toggleable__content.fitted {\n",
              "  /* fitted */\n",
              "  background-color: var(--sklearn-color-fitted-level-0);\n",
              "}\n",
              "\n",
              "#sk-container-id-1 div.sk-toggleable__content pre {\n",
              "  margin: 0.2em;\n",
              "  border-radius: 0.25em;\n",
              "  color: var(--sklearn-color-text);\n",
              "  /* unfitted */\n",
              "  background-color: var(--sklearn-color-unfitted-level-0);\n",
              "}\n",
              "\n",
              "#sk-container-id-1 div.sk-toggleable__content.fitted pre {\n",
              "  /* unfitted */\n",
              "  background-color: var(--sklearn-color-fitted-level-0);\n",
              "}\n",
              "\n",
              "#sk-container-id-1 input.sk-toggleable__control:checked~div.sk-toggleable__content {\n",
              "  /* Expand drop-down */\n",
              "  max-height: 200px;\n",
              "  max-width: 100%;\n",
              "  overflow: auto;\n",
              "}\n",
              "\n",
              "#sk-container-id-1 input.sk-toggleable__control:checked~label.sk-toggleable__label-arrow:before {\n",
              "  content: \"▾\";\n",
              "}\n",
              "\n",
              "/* Pipeline/ColumnTransformer-specific style */\n",
              "\n",
              "#sk-container-id-1 div.sk-label input.sk-toggleable__control:checked~label.sk-toggleable__label {\n",
              "  color: var(--sklearn-color-text);\n",
              "  background-color: var(--sklearn-color-unfitted-level-2);\n",
              "}\n",
              "\n",
              "#sk-container-id-1 div.sk-label.fitted input.sk-toggleable__control:checked~label.sk-toggleable__label {\n",
              "  background-color: var(--sklearn-color-fitted-level-2);\n",
              "}\n",
              "\n",
              "/* Estimator-specific style */\n",
              "\n",
              "/* Colorize estimator box */\n",
              "#sk-container-id-1 div.sk-estimator input.sk-toggleable__control:checked~label.sk-toggleable__label {\n",
              "  /* unfitted */\n",
              "  background-color: var(--sklearn-color-unfitted-level-2);\n",
              "}\n",
              "\n",
              "#sk-container-id-1 div.sk-estimator.fitted input.sk-toggleable__control:checked~label.sk-toggleable__label {\n",
              "  /* fitted */\n",
              "  background-color: var(--sklearn-color-fitted-level-2);\n",
              "}\n",
              "\n",
              "#sk-container-id-1 div.sk-label label.sk-toggleable__label,\n",
              "#sk-container-id-1 div.sk-label label {\n",
              "  /* The background is the default theme color */\n",
              "  color: var(--sklearn-color-text-on-default-background);\n",
              "}\n",
              "\n",
              "/* On hover, darken the color of the background */\n",
              "#sk-container-id-1 div.sk-label:hover label.sk-toggleable__label {\n",
              "  color: var(--sklearn-color-text);\n",
              "  background-color: var(--sklearn-color-unfitted-level-2);\n",
              "}\n",
              "\n",
              "/* Label box, darken color on hover, fitted */\n",
              "#sk-container-id-1 div.sk-label.fitted:hover label.sk-toggleable__label.fitted {\n",
              "  color: var(--sklearn-color-text);\n",
              "  background-color: var(--sklearn-color-fitted-level-2);\n",
              "}\n",
              "\n",
              "/* Estimator label */\n",
              "\n",
              "#sk-container-id-1 div.sk-label label {\n",
              "  font-family: monospace;\n",
              "  font-weight: bold;\n",
              "  display: inline-block;\n",
              "  line-height: 1.2em;\n",
              "}\n",
              "\n",
              "#sk-container-id-1 div.sk-label-container {\n",
              "  text-align: center;\n",
              "}\n",
              "\n",
              "/* Estimator-specific */\n",
              "#sk-container-id-1 div.sk-estimator {\n",
              "  font-family: monospace;\n",
              "  border: 1px dotted var(--sklearn-color-border-box);\n",
              "  border-radius: 0.25em;\n",
              "  box-sizing: border-box;\n",
              "  margin-bottom: 0.5em;\n",
              "  /* unfitted */\n",
              "  background-color: var(--sklearn-color-unfitted-level-0);\n",
              "}\n",
              "\n",
              "#sk-container-id-1 div.sk-estimator.fitted {\n",
              "  /* fitted */\n",
              "  background-color: var(--sklearn-color-fitted-level-0);\n",
              "}\n",
              "\n",
              "/* on hover */\n",
              "#sk-container-id-1 div.sk-estimator:hover {\n",
              "  /* unfitted */\n",
              "  background-color: var(--sklearn-color-unfitted-level-2);\n",
              "}\n",
              "\n",
              "#sk-container-id-1 div.sk-estimator.fitted:hover {\n",
              "  /* fitted */\n",
              "  background-color: var(--sklearn-color-fitted-level-2);\n",
              "}\n",
              "\n",
              "/* Specification for estimator info (e.g. \"i\" and \"?\") */\n",
              "\n",
              "/* Common style for \"i\" and \"?\" */\n",
              "\n",
              ".sk-estimator-doc-link,\n",
              "a:link.sk-estimator-doc-link,\n",
              "a:visited.sk-estimator-doc-link {\n",
              "  float: right;\n",
              "  font-size: smaller;\n",
              "  line-height: 1em;\n",
              "  font-family: monospace;\n",
              "  background-color: var(--sklearn-color-background);\n",
              "  border-radius: 1em;\n",
              "  height: 1em;\n",
              "  width: 1em;\n",
              "  text-decoration: none !important;\n",
              "  margin-left: 0.5em;\n",
              "  text-align: center;\n",
              "  /* unfitted */\n",
              "  border: var(--sklearn-color-unfitted-level-1) 1pt solid;\n",
              "  color: var(--sklearn-color-unfitted-level-1);\n",
              "}\n",
              "\n",
              ".sk-estimator-doc-link.fitted,\n",
              "a:link.sk-estimator-doc-link.fitted,\n",
              "a:visited.sk-estimator-doc-link.fitted {\n",
              "  /* fitted */\n",
              "  border: var(--sklearn-color-fitted-level-1) 1pt solid;\n",
              "  color: var(--sklearn-color-fitted-level-1);\n",
              "}\n",
              "\n",
              "/* On hover */\n",
              "div.sk-estimator:hover .sk-estimator-doc-link:hover,\n",
              ".sk-estimator-doc-link:hover,\n",
              "div.sk-label-container:hover .sk-estimator-doc-link:hover,\n",
              ".sk-estimator-doc-link:hover {\n",
              "  /* unfitted */\n",
              "  background-color: var(--sklearn-color-unfitted-level-3);\n",
              "  color: var(--sklearn-color-background);\n",
              "  text-decoration: none;\n",
              "}\n",
              "\n",
              "div.sk-estimator.fitted:hover .sk-estimator-doc-link.fitted:hover,\n",
              ".sk-estimator-doc-link.fitted:hover,\n",
              "div.sk-label-container:hover .sk-estimator-doc-link.fitted:hover,\n",
              ".sk-estimator-doc-link.fitted:hover {\n",
              "  /* fitted */\n",
              "  background-color: var(--sklearn-color-fitted-level-3);\n",
              "  color: var(--sklearn-color-background);\n",
              "  text-decoration: none;\n",
              "}\n",
              "\n",
              "/* Span, style for the box shown on hovering the info icon */\n",
              ".sk-estimator-doc-link span {\n",
              "  display: none;\n",
              "  z-index: 9999;\n",
              "  position: relative;\n",
              "  font-weight: normal;\n",
              "  right: .2ex;\n",
              "  padding: .5ex;\n",
              "  margin: .5ex;\n",
              "  width: min-content;\n",
              "  min-width: 20ex;\n",
              "  max-width: 50ex;\n",
              "  color: var(--sklearn-color-text);\n",
              "  box-shadow: 2pt 2pt 4pt #999;\n",
              "  /* unfitted */\n",
              "  background: var(--sklearn-color-unfitted-level-0);\n",
              "  border: .5pt solid var(--sklearn-color-unfitted-level-3);\n",
              "}\n",
              "\n",
              ".sk-estimator-doc-link.fitted span {\n",
              "  /* fitted */\n",
              "  background: var(--sklearn-color-fitted-level-0);\n",
              "  border: var(--sklearn-color-fitted-level-3);\n",
              "}\n",
              "\n",
              ".sk-estimator-doc-link:hover span {\n",
              "  display: block;\n",
              "}\n",
              "\n",
              "/* \"?\"-specific style due to the `<a>` HTML tag */\n",
              "\n",
              "#sk-container-id-1 a.estimator_doc_link {\n",
              "  float: right;\n",
              "  font-size: 1rem;\n",
              "  line-height: 1em;\n",
              "  font-family: monospace;\n",
              "  background-color: var(--sklearn-color-background);\n",
              "  border-radius: 1rem;\n",
              "  height: 1rem;\n",
              "  width: 1rem;\n",
              "  text-decoration: none;\n",
              "  /* unfitted */\n",
              "  color: var(--sklearn-color-unfitted-level-1);\n",
              "  border: var(--sklearn-color-unfitted-level-1) 1pt solid;\n",
              "}\n",
              "\n",
              "#sk-container-id-1 a.estimator_doc_link.fitted {\n",
              "  /* fitted */\n",
              "  border: var(--sklearn-color-fitted-level-1) 1pt solid;\n",
              "  color: var(--sklearn-color-fitted-level-1);\n",
              "}\n",
              "\n",
              "/* On hover */\n",
              "#sk-container-id-1 a.estimator_doc_link:hover {\n",
              "  /* unfitted */\n",
              "  background-color: var(--sklearn-color-unfitted-level-3);\n",
              "  color: var(--sklearn-color-background);\n",
              "  text-decoration: none;\n",
              "}\n",
              "\n",
              "#sk-container-id-1 a.estimator_doc_link.fitted:hover {\n",
              "  /* fitted */\n",
              "  background-color: var(--sklearn-color-fitted-level-3);\n",
              "}\n",
              "</style><div id=\"sk-container-id-1\" class=\"sk-top-container\"><div class=\"sk-text-repr-fallback\"><pre>LogisticRegression(random_state=42)</pre><b>In a Jupyter environment, please rerun this cell to show the HTML representation or trust the notebook. <br />On GitHub, the HTML representation is unable to render, please try loading this page with nbviewer.org.</b></div><div class=\"sk-container\" hidden><div class=\"sk-item\"><div class=\"sk-estimator fitted sk-toggleable\"><input class=\"sk-toggleable__control sk-hidden--visually\" id=\"sk-estimator-id-1\" type=\"checkbox\" checked><label for=\"sk-estimator-id-1\" class=\"sk-toggleable__label fitted sk-toggleable__label-arrow\"><div><div>LogisticRegression</div></div><div><a class=\"sk-estimator-doc-link fitted\" rel=\"noreferrer\" target=\"_blank\" href=\"https://scikit-learn.org/1.6/modules/generated/sklearn.linear_model.LogisticRegression.html\">?<span>Documentation for LogisticRegression</span></a><span class=\"sk-estimator-doc-link fitted\">i<span>Fitted</span></span></div></label><div class=\"sk-toggleable__content fitted\"><pre>LogisticRegression(random_state=42)</pre></div> </div></div></div></div>"
            ],
            "text/plain": [
              "LogisticRegression(random_state=42)"
            ]
          },
          "execution_count": 48,
          "metadata": {},
          "output_type": "execute_result"
        }
      ],
      "source": [
        "model.fit(X_train_resampled, y_train_resampled)"
      ]
    },
    {
      "cell_type": "markdown",
      "metadata": {
        "id": "J0oTrAfG0FyS"
      },
      "source": [
        "## Results"
      ]
    },
    {
      "cell_type": "code",
      "execution_count": 53,
      "metadata": {},
      "outputs": [
        {
          "name": "stdout",
          "output_type": "stream",
          "text": [
            "Accuracy Rate: 0.7393838139339086\n"
          ]
        }
      ],
      "source": [
        "res = model.score(X_test_scaled, y_test)\n",
        "print(\"Accuracy Rate:\", res)"
      ]
    },
    {
      "cell_type": "code",
      "execution_count": 54,
      "metadata": {
        "id": "vQ6vOhL80KGA"
      },
      "outputs": [
        {
          "name": "stdout",
          "output_type": "stream",
          "text": [
            "Classification Report:\n",
            "              precision    recall  f1-score   support\n",
            "\n",
            "           0       0.97      0.73      0.83    135129\n",
            "           1       0.27      0.82      0.41     16903\n",
            "\n",
            "    accuracy                           0.74    152032\n",
            "   macro avg       0.62      0.77      0.62    152032\n",
            "weighted avg       0.89      0.74      0.79    152032\n",
            "\n"
          ]
        },
        {
          "data": {
            "image/png": "[encoded data removed]",
            "text/plain": [
              "<Figure size 800x600 with 2 Axes>"
            ]
          },
          "metadata": {},
          "output_type": "display_data"
        }
      ],
      "source": [
        "# Make predictions\n",
        "y_pred = model.predict(X_test_scaled)\n",
        "print(\"Classification Report:\")\n",
        "print(classification_report(y_test, y_pred))\n",
        "\n",
        "y_pred = (y_pred > 0.5).astype(int) # Convert probabilities to binary predictions\n",
        "\n",
        "# Create confusion matrix visualization\n",
        "plt.figure(figsize=(8, 6))\n",
        "cm = confusion_matrix(y_test, y_pred)\n",
        "sns.heatmap(cm, annot=True, fmt='d', cmap='Blues')\n",
        "plt.title('Confusion Matrix')\n",
        "plt.ylabel('True Label')\n",
        "plt.xlabel('Predicted Label')\n",
        "plt.show()"
      ]
    },
    {
      "cell_type": "code",
      "execution_count": 55,
      "metadata": {
        "id": "mSc6zjcr0QNA"
      },
      "outputs": [
        {
          "data": {
            "image/png": "[encoded data removed]",
            "text/plain": [
              "<Figure size 1000x600 with 1 Axes>"
            ]
          },
          "metadata": {},
          "output_type": "display_data"
        }
      ],
      "source": [
        "# Feature importance\n",
        "feature_importance = pd.DataFrame({\n",
        "    'Feature': features,\n",
        "    'Importance': abs(model.coef_[0])\n",
        "})\n",
        "feature_importance = feature_importance.sort_values('Importance', ascending=False)\n",
        "\n",
        "plt.figure(figsize=(10, 6))\n",
        "sns.barplot(x='Importance', y='Feature', data=feature_importance)\n",
        "plt.title('Feature Importance')\n",
        "plt.show()"
      ]
    },
    {
      "cell_type": "code",
      "execution_count": 56,
      "metadata": {
        "id": "XmgBFRhe0TW-"
      },
      "outputs": [
        {
          "name": "stdout",
          "output_type": "stream",
          "text": [
            "\n",
            "Model Coefficients:\n",
            "tmpf: -1.0829\n",
            "rh: 1.5382\n",
            "sknt: -0.2244\n",
            "gust: 0.8361\n",
            "tdiff: 0.0243\n",
            "isday: -0.1635\n"
          ]
        }
      ],
      "source": [
        "# Print model coefficients\n",
        "print(\"\\nModel Coefficients:\")\n",
        "for feature, coef in zip(features, model.coef_[0]):\n",
        "    print(f\"{feature}: {coef:.4f}\")"
      ]
    }
  ],
  "metadata": {
    "colab": {
      "provenance": [],
      "toc_visible": true
    },
    "kernelspec": {
      "display_name": "engs90",
      "language": "python",
      "name": "python3"
    },
    "language_info": {
      "codemirror_mode": {
        "name": "ipython",
        "version": 3
      },
      "file_extension": ".py",
      "mimetype": "text/x-python",
      "name": "python",
      "nbconvert_exporter": "python",
      "pygments_lexer": "ipython3",
      "version": "3.12.8"
    }
  },
  "nbformat": 4,
  "nbformat_minor": 0
}
